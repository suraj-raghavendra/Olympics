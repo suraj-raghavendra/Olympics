{
 "cells": [
  {
   "cell_type": "code",
   "execution_count": 96,
   "id": "04127c60",
   "metadata": {},
   "outputs": [],
   "source": [
    "import ipywidgets as widgets\n",
    "from IPython.display import display\n",
    "import app\n",
    "from app import *\n",
    "import importlib\n",
    "importlib.reload(app)\n",
    "from IPython.display import clear_output"
   ]
  },
  {
   "cell_type": "markdown",
   "id": "d724d22b",
   "metadata": {},
   "source": [
    "# Create New Directory"
   ]
  },
  {
   "cell_type": "code",
   "execution_count": 97,
   "id": "480388d4",
   "metadata": {},
   "outputs": [
    {
     "data": {
      "application/vnd.jupyter.widget-view+json": {
       "model_id": "579f96ddc8ac4036b3c884c79a2b7369",
       "version_major": 2,
       "version_minor": 0
      },
      "text/plain": [
       "Text(value='', description='Make new directory:', layout=Layout(width='70%'), placeholder='Enter the directory…"
      ]
     },
     "metadata": {},
     "output_type": "display_data"
    },
    {
     "data": {
      "application/vnd.jupyter.widget-view+json": {
       "model_id": "0dda80d2ffd8441289a3339ed4f099b3",
       "version_major": 2,
       "version_minor": 0
      },
      "text/plain": [
       "Button(description='Make Directory', style=ButtonStyle())"
      ]
     },
     "metadata": {},
     "output_type": "display_data"
    }
   ],
   "source": [
    "mkdirText = widgets.Text(\n",
    "    value='',\n",
    "    placeholder='Enter the directory structure with each folder seperated by /',\n",
    "    description='Make new directory:',\n",
    "    disabled=False,\n",
    "    layout=widgets.Layout(width='70%'),\n",
    "    style= {'description_width': 'initial'}\n",
    ")\n",
    "display(mkdirText)\n",
    "\n",
    "mkdirBtn = widgets.Button(description='Make Directory')\n",
    "display(mkdirBtn)\n",
    "def btn_eventhandler(obj):\n",
    "#     print(mkdirText.value)\n",
    "    app.mkdir(mkdirText.value)\n",
    "mkdirBtn.on_click(btn_eventhandler)"
   ]
  },
  {
   "cell_type": "markdown",
   "id": "1cdd266d",
   "metadata": {},
   "source": [
    "# List Contents"
   ]
  },
  {
   "cell_type": "code",
   "execution_count": 103,
   "id": "f530a281",
   "metadata": {},
   "outputs": [
    {
     "data": {
      "application/vnd.jupyter.widget-view+json": {
       "model_id": "ef20fda3588a49508324ccb0911229e2",
       "version_major": 2,
       "version_minor": 0
      },
      "text/plain": [
       "Text(value='', description='Lookup content of folder:', layout=Layout(width='70%'), placeholder='Enter the pat…"
      ]
     },
     "metadata": {},
     "output_type": "display_data"
    },
    {
     "data": {
      "application/vnd.jupyter.widget-view+json": {
       "model_id": "755f4a6b3fac4149908b060b1af37ceb",
       "version_major": 2,
       "version_minor": 0
      },
      "text/plain": [
       "Button(description='List Contents', style=ButtonStyle())"
      ]
     },
     "metadata": {},
     "output_type": "display_data"
    },
    {
     "data": {
      "application/vnd.jupyter.widget-view+json": {
       "model_id": "5567de4f80d142589a6a735bcc89b743",
       "version_major": 2,
       "version_minor": 0
      },
      "text/plain": [
       "Output()"
      ]
     },
     "metadata": {},
     "output_type": "display_data"
    }
   ],
   "source": [
    "lsText = widgets.Text(\n",
    "    value='',\n",
    "    placeholder='Enter the path to folder seperated by /',\n",
    "    description='Lookup content of folder:',\n",
    "    disabled=False,\n",
    "    layout=widgets.Layout(width='70%'),\n",
    "    style= {'description_width': 'initial'}\n",
    ")\n",
    "display(lsText)\n",
    "\n",
    "lsBtn = widgets.Button(description='List Contents')\n",
    "display(lsBtn)\n",
    "\n",
    "out = widgets.Output()\n",
    "display(out)\n",
    "def btn_eventhandler(obj):\n",
    "#     print(lsText.value)\n",
    "    with out:\n",
    "        clear_output()\n",
    "        app.ls(lsText.value)\n",
    "lsBtn.on_click(btn_eventhandler)"
   ]
  },
  {
   "cell_type": "markdown",
   "id": "1553561f",
   "metadata": {},
   "source": [
    "# Remove Content"
   ]
  },
  {
   "cell_type": "code",
   "execution_count": 94,
   "id": "c25a74c1",
   "metadata": {},
   "outputs": [
    {
     "data": {
      "application/vnd.jupyter.widget-view+json": {
       "model_id": "d3c7f9b5609846d9a98a920257ef66fc",
       "version_major": 2,
       "version_minor": 0
      },
      "text/plain": [
       "Text(value='', description='Remove file/folder: ', layout=Layout(width='70%'), placeholder='Enter the path to …"
      ]
     },
     "metadata": {},
     "output_type": "display_data"
    },
    {
     "data": {
      "application/vnd.jupyter.widget-view+json": {
       "model_id": "74c97e132ebf4b65877f1f90da07c34d",
       "version_major": 2,
       "version_minor": 0
      },
      "text/plain": [
       "Button(description='Remove Contents', style=ButtonStyle())"
      ]
     },
     "metadata": {},
     "output_type": "display_data"
    }
   ],
   "source": [
    "rmText = widgets.Text(\n",
    "    value='',\n",
    "    placeholder='Enter the path to file/folder to be removed',\n",
    "    description='Remove file/folder: ',\n",
    "    disabled=False,\n",
    "    layout=widgets.Layout(width='70%'),\n",
    "    style= {'description_width': 'initial', 'placeholder_width': 'initial'}\n",
    ")\n",
    "display(rmText)\n",
    "\n",
    "rmBtn = widgets.Button(description='Remove Contents')\n",
    "display(rmBtn)\n",
    "def btn_eventhandler(obj):\n",
    "#     print(rmText.value)\n",
    "    app.rm(rmText.value)\n",
    "rmBtn.on_click(btn_eventhandler)"
   ]
  },
  {
   "cell_type": "markdown",
   "id": "92749bd5",
   "metadata": {},
   "source": [
    "# Insert File"
   ]
  },
  {
   "cell_type": "code",
   "execution_count": 31,
   "id": "1e0cfa65",
   "metadata": {},
   "outputs": [
    {
     "data": {
      "application/vnd.jupyter.widget-view+json": {
       "model_id": "42a09da00e2948da9b4ad387dc62a514",
       "version_major": 2,
       "version_minor": 0
      },
      "text/plain": [
       "Text(value='', description='Directory: ', layout=Layout(width='70%'), placeholder='Enter the path to folder to…"
      ]
     },
     "metadata": {},
     "output_type": "display_data"
    },
    {
     "data": {
      "application/vnd.jupyter.widget-view+json": {
       "model_id": "93c54d212b3042b48c7a1764929502b8",
       "version_major": 2,
       "version_minor": 0
      },
      "text/plain": [
       "Text(value='', description='File: ', layout=Layout(width='70%'), placeholder='Enter the file insert', style=De…"
      ]
     },
     "metadata": {},
     "output_type": "display_data"
    },
    {
     "data": {
      "application/vnd.jupyter.widget-view+json": {
       "model_id": "dcbfc1f1b7ad42b4b948e30a63a4a81d",
       "version_major": 2,
       "version_minor": 0
      },
      "text/plain": [
       "Text(value='', description='#Partitions: ', layout=Layout(width='70%'), placeholder='Enter the number of parti…"
      ]
     },
     "metadata": {},
     "output_type": "display_data"
    },
    {
     "data": {
      "application/vnd.jupyter.widget-view+json": {
       "model_id": "71ece3f29b944c62a1f88ca7601bc379",
       "version_major": 2,
       "version_minor": 0
      },
      "text/plain": [
       "Text(value='', description='Column (optional): ', layout=Layout(width='70%'), placeholder='Enter the column to…"
      ]
     },
     "metadata": {},
     "output_type": "display_data"
    },
    {
     "data": {
      "application/vnd.jupyter.widget-view+json": {
       "model_id": "29e7b5110d08417aa91573d6d4ae6245",
       "version_major": 2,
       "version_minor": 0
      },
      "text/plain": [
       "Button(description='Insert File', style=ButtonStyle())"
      ]
     },
     "metadata": {},
     "output_type": "display_data"
    }
   ],
   "source": [
    "putPath = widgets.Text(\n",
    "    value='',\n",
    "    placeholder='Enter the path to folder to insert into',\n",
    "    description='Directory: ',\n",
    "    disabled=False,\n",
    "    layout=widgets.Layout(width='70%'),\n",
    "    style= {'description_width': 'initial'}\n",
    ")\n",
    "display(putPath)\n",
    "\n",
    "putFile = widgets.Text(\n",
    "    value='',\n",
    "    placeholder='Enter the file insert',\n",
    "    description='File: ',\n",
    "    disabled=False,\n",
    "    layout=widgets.Layout(width='70%'),\n",
    "    style= {'description_width': 'initial'}\n",
    ")\n",
    "display(putFile)\n",
    "\n",
    "putK = widgets.Text(\n",
    "    value='',\n",
    "    placeholder='Enter the number of partitions',\n",
    "    description='#Partitions: ',\n",
    "    disabled=False,\n",
    "    layout=widgets.Layout(width='70%'),\n",
    "    style= {'description_width': 'initial'}\n",
    ")\n",
    "display(putK)\n",
    "\n",
    "putColumn = widgets.Text(\n",
    "    value='',\n",
    "    placeholder='Enter the column to partition data on',\n",
    "    description='Column (optional): ',\n",
    "    disabled=False,\n",
    "    layout=widgets.Layout(width='70%'),\n",
    "    style= {'description_width': 'initial'}\n",
    ")\n",
    "display(putColumn)\n",
    "\n",
    "putBtn = widgets.Button(description='Insert File')\n",
    "display(putBtn)\n",
    "def btn_eventhandler(obj):\n",
    "#     print(putPath.value, \"\\n\")\n",
    "#     print(putFile.value, \"\\n\")\n",
    "#     print(putK.value, \"\\n\")\n",
    "#     print(putColumn.value, \"\\n\")\n",
    "    if putColumn.value != '':\n",
    "        put(putPath.value, putFile.value, int(putK.value), putColumn.value)\n",
    "    else:\n",
    "        put(putPath.value, putFile.value, int(putK.value))\n",
    "putBtn.on_click(btn_eventhandler)"
   ]
  },
  {
   "cell_type": "markdown",
   "id": "7bda0c23",
   "metadata": {},
   "source": [
    "# Get Partition Locations"
   ]
  },
  {
   "cell_type": "code",
   "execution_count": 13,
   "id": "ca8de4b8",
   "metadata": {},
   "outputs": [
    {
     "data": {
      "application/vnd.jupyter.widget-view+json": {
       "model_id": "8d2ae5f794364cceaf526f272783d1a6",
       "version_major": 2,
       "version_minor": 0
      },
      "text/plain": [
       "Text(value='', description='File: ', layout=Layout(width='70%'), placeholder='Enter the file name to retrieve …"
      ]
     },
     "metadata": {},
     "output_type": "display_data"
    },
    {
     "data": {
      "application/vnd.jupyter.widget-view+json": {
       "model_id": "64b7e309e4984f84b8359d1cc6a74545",
       "version_major": 2,
       "version_minor": 0
      },
      "text/plain": [
       "Button(description='Get Partitions', style=ButtonStyle())"
      ]
     },
     "metadata": {},
     "output_type": "display_data"
    }
   ],
   "source": [
    "gplText = widgets.Text(\n",
    "    value='',\n",
    "    placeholder='Enter the file name to retrieve partition locations for',\n",
    "    description='File: ',\n",
    "    disabled=False,\n",
    "    layout=widgets.Layout(width='70%'),\n",
    "    style= {'description_width': 'initial'}\n",
    ")\n",
    "display(gplText)\n",
    "\n",
    "gplBtn = widgets.Button(description='Get Partitions')\n",
    "display(gplBtn)\n",
    "def btn_eventhandler(obj):\n",
    "#     print(gplText.value)\n",
    "    app.rm(rmText.value)\n",
    "gplBtn.on_click(btn_eventhandler)"
   ]
  },
  {
   "cell_type": "markdown",
   "id": "73360e0c",
   "metadata": {},
   "source": [
    "# Search Functionality"
   ]
  },
  {
   "cell_type": "code",
   "execution_count": 104,
   "id": "ee168544",
   "metadata": {},
   "outputs": [
    {
     "data": {
      "application/vnd.jupyter.widget-view+json": {
       "model_id": "fcf20038bf4b412bbd28d846c0f2da0b",
       "version_major": 2,
       "version_minor": 0
      },
      "text/plain": [
       "Text(value='', description='File: ', layout=Layout(width='70%'), placeholder='Enter the file to search', style…"
      ]
     },
     "metadata": {},
     "output_type": "display_data"
    },
    {
     "data": {
      "application/vnd.jupyter.widget-view+json": {
       "model_id": "0d34b7540a9647cc9ce2f31e3832c4bb",
       "version_major": 2,
       "version_minor": 0
      },
      "text/plain": [
       "Text(value='', description='Column: ', layout=Layout(width='70%'), placeholder='Enter the column to search on'…"
      ]
     },
     "metadata": {},
     "output_type": "display_data"
    },
    {
     "data": {
      "application/vnd.jupyter.widget-view+json": {
       "model_id": "c5e3fae4445e4c7da4e3751cae7f3d74",
       "version_major": 2,
       "version_minor": 0
      },
      "text/plain": [
       "Text(value='', description='Search Term: ', layout=Layout(width='70%'), placeholder='Enter the search term', s…"
      ]
     },
     "metadata": {},
     "output_type": "display_data"
    },
    {
     "data": {
      "application/vnd.jupyter.widget-view+json": {
       "model_id": "f63cdfdb3acf4d178cfab8eb22b07911",
       "version_major": 2,
       "version_minor": 0
      },
      "text/plain": [
       "Button(description='Search', style=ButtonStyle())"
      ]
     },
     "metadata": {},
     "output_type": "display_data"
    }
   ],
   "source": [
    "searchFile = widgets.Text(\n",
    "    value='',\n",
    "    placeholder='Enter the file to search',\n",
    "    description='File: ',\n",
    "    disabled=False,\n",
    "    layout=widgets.Layout(width='70%'),\n",
    "    style= {'description_width': 'initial'}\n",
    ")\n",
    "display(searchFile)\n",
    "\n",
    "searchCol = widgets.Text(\n",
    "    value='',\n",
    "    placeholder='Enter the column to search on',\n",
    "    description='Column: ',\n",
    "    disabled=False,\n",
    "    layout=widgets.Layout(width='70%'),\n",
    "    style= {'description_width': 'initial'}\n",
    ")\n",
    "display(searchCol)\n",
    "\n",
    "searchTerm = widgets.Text(\n",
    "    value='',\n",
    "    placeholder='Enter the search term',\n",
    "    description='Search Term: ',\n",
    "    disabled=False,\n",
    "    layout=widgets.Layout(width='70%'),\n",
    "    style= {'description_width': 'initial'}\n",
    ")\n",
    "display(searchTerm)\n",
    "\n",
    "searchBtn = widgets.Button(description='Search')\n",
    "display(searchBtn)\n",
    "def btn_eventhandler(obj):\n",
    "#     print(searchFile.value, \"\\n\")\n",
    "#     print(searchCol.value, \"\\n\")\n",
    "#     print(searchTerm.value, \"\\n\")\n",
    "    app.search(searchFile.value, searchCol.value, searchTerm.value)\n",
    "searchBtn.on_click(btn_eventhandler)"
   ]
  },
  {
   "cell_type": "markdown",
   "id": "c649cdff",
   "metadata": {},
   "source": [
    "# Analytics"
   ]
  },
  {
   "cell_type": "code",
   "execution_count": 105,
   "id": "6a06d97b",
   "metadata": {},
   "outputs": [
    {
     "name": "stdout",
     "output_type": "stream",
     "text": [
      "Analytics available : Mean, Minimum, Range, Standard Deviation, Median, Mode\n"
     ]
    },
    {
     "data": {
      "application/vnd.jupyter.widget-view+json": {
       "model_id": "27bc195474c54af6b8a96d804e52b599",
       "version_major": 2,
       "version_minor": 0
      },
      "text/plain": [
       "Text(value='', description='File: ', layout=Layout(width='70%'), placeholder='Enter the file name', style=Desc…"
      ]
     },
     "metadata": {},
     "output_type": "display_data"
    },
    {
     "data": {
      "application/vnd.jupyter.widget-view+json": {
       "model_id": "fc5983cae5db4fd98c3ff7a4441d0004",
       "version_major": 2,
       "version_minor": 0
      },
      "text/plain": [
       "Text(value='', description='Column: ', layout=Layout(width='70%'), placeholder='Enter the column to analyse da…"
      ]
     },
     "metadata": {},
     "output_type": "display_data"
    },
    {
     "data": {
      "application/vnd.jupyter.widget-view+json": {
       "model_id": "024f666fc8c94b4194e57b0ddaab7dc3",
       "version_major": 2,
       "version_minor": 0
      },
      "text/plain": [
       "Dropdown(description='Analytics Function: ', layout=Layout(width='70%'), options=('mean', 'minimum', 'maximum'…"
      ]
     },
     "metadata": {},
     "output_type": "display_data"
    },
    {
     "data": {
      "application/vnd.jupyter.widget-view+json": {
       "model_id": "85bd500eb0ac4d5aa25f961329373dc1",
       "version_major": 2,
       "version_minor": 0
      },
      "text/plain": [
       "Button(description='Analytics', style=ButtonStyle())"
      ]
     },
     "metadata": {},
     "output_type": "display_data"
    }
   ],
   "source": [
    "print(\"Analytics available : Mean, Minimum, Range, Standard Deviation, Median, Mode\")\n",
    "anaFile = widgets.Text(\n",
    "    value='',\n",
    "    placeholder='Enter the file name',\n",
    "    description='File: ',\n",
    "    disabled=False,\n",
    "    layout=widgets.Layout(width='70%'),\n",
    "    style= {'description_width': 'initial'}\n",
    ")\n",
    "display(anaFile)\n",
    "\n",
    "anaCol = widgets.Text(\n",
    "    value='',\n",
    "    placeholder='Enter the column to analyse data on',\n",
    "    description='Column: ',\n",
    "    disabled=False,\n",
    "    layout=widgets.Layout(width='70%'),\n",
    "    style= {'description_width': 'initial'}\n",
    ")\n",
    "display(anaCol)\n",
    "\n",
    "anaFun = widgets.Dropdown(\n",
    "    options=['mean', 'minimum', 'maximum', 'range', 'standardDeviation', 'median', 'mode'],\n",
    "    value='mean',\n",
    "    description='Analytics Function: ',\n",
    "    disabled=False,\n",
    "    layout=widgets.Layout(width='70%'),\n",
    "    style= {'description_width': 'initial'}\n",
    ")\n",
    "display(anaFun)\n",
    "\n",
    "anaBtn = widgets.Button(description='Get Analytics')\n",
    "display(anaBtn)\n",
    "def btn_eventhandler(obj):\n",
    "    print(anaFile.value, \"\\n\")\n",
    "    print(anaCol.value, \"\\n\")\n",
    "    print(anaFun.value, \"\\n\")\n",
    "#     app.dataAnalytics(anaFile.value, anaCol.value, anaFun.value)\n",
    "anaBtn.on_click(btn_eventhandler)"
   ]
  },
  {
   "cell_type": "code",
   "execution_count": null,
   "id": "469bec8b",
   "metadata": {},
   "outputs": [],
   "source": []
  }
 ],
 "metadata": {
  "interpreter": {
   "hash": "31f2aee4e71d21fbe5cf8b01ff0e069b9275f58929596ceb00d14d90e3e16cd6"
  },
  "kernelspec": {
   "display_name": "Python 3",
   "language": "python",
   "name": "python3"
  },
  "language_info": {
   "codemirror_mode": {
    "name": "ipython",
    "version": 3
   },
   "file_extension": ".py",
   "mimetype": "text/x-python",
   "name": "python",
   "nbconvert_exporter": "python",
   "pygments_lexer": "ipython3",
   "version": "3.8.8"
  }
 },
 "nbformat": 4,
 "nbformat_minor": 5
}
