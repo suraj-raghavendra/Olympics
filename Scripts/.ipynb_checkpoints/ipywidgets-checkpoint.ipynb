{
 "cells": [
  {
   "cell_type": "code",
   "execution_count": 26,
   "id": "04127c60",
   "metadata": {},
   "outputs": [],
   "source": [
    "import ipywidgets as widgets\n",
    "from IPython.display import display\n",
    "import app\n",
    "from app import *\n",
    "import map\n",
    "from map import *\n",
    "import importlib\n",
    "importlib.reload(app)\n",
    "from IPython.display import clear_output"
   ]
  },
  {
   "cell_type": "markdown",
   "id": "d724d22b",
   "metadata": {},
   "source": [
    "# Create New Directory"
   ]
  },
  {
   "cell_type": "markdown",
   "id": "b4d75373",
   "metadata": {},
   "source": [
    "### This setup mirrors the \"mkdir\" command for our EDFS. To create a new directory, enter the heirarchy in which it should be created\n",
    "#### 1. To create a directory under home, enter /dir-name\n",
    "#### 2. To create a subdirectory under any other directory, seperate them with / (eg: /user/john)"
   ]
  },
  {
   "cell_type": "code",
   "execution_count": 18,
   "id": "480388d4",
   "metadata": {},
   "outputs": [
    {
     "data": {
      "application/vnd.jupyter.widget-view+json": {
       "model_id": "15b2d4009f7342b2b90e31a8434ad439",
       "version_major": 2,
       "version_minor": 0
      },
      "text/plain": [
       "Text(value='', description='Make new directory:', layout=Layout(width='70%'), placeholder='Enter the directory…"
      ]
     },
     "metadata": {},
     "output_type": "display_data"
    },
    {
     "data": {
      "application/vnd.jupyter.widget-view+json": {
       "model_id": "8ad7c7ad2ade45ac8bb0963f53f58f6d",
       "version_major": 2,
       "version_minor": 0
      },
      "text/plain": [
       "Button(description='Make Directory', style=ButtonStyle())"
      ]
     },
     "metadata": {},
     "output_type": "display_data"
    },
    {
     "data": {
      "application/vnd.jupyter.widget-view+json": {
       "model_id": "fc2487c4034e4071bce68474827e8000",
       "version_major": 2,
       "version_minor": 0
      },
      "text/plain": [
       "Output()"
      ]
     },
     "metadata": {},
     "output_type": "display_data"
    }
   ],
   "source": [
    "mkdirText = widgets.Text(\n",
    "    value='',\n",
    "    placeholder='Enter the directory structure with each folder seperated by /',\n",
    "    description='Make new directory:',\n",
    "    disabled=False,\n",
    "    layout=widgets.Layout(width='70%'),\n",
    "    style= {'description_width': 'initial'}\n",
    ")\n",
    "display(mkdirText)\n",
    "\n",
    "mkdirBtn = widgets.Button(description='Make Directory')\n",
    "display(mkdirBtn)\n",
    "out = widgets.Output()\n",
    "display(out)\n",
    "def btn_eventhandler(obj):\n",
    "    with out:\n",
    "        clear_output()\n",
    "        app.mkdir(mkdirText.value)\n",
    "\n",
    "mkdirBtn.on_click(btn_eventhandler)"
   ]
  },
  {
   "cell_type": "markdown",
   "id": "1cdd266d",
   "metadata": {},
   "source": [
    "# List Contents"
   ]
  },
  {
   "cell_type": "markdown",
   "id": "b3e34a18",
   "metadata": {},
   "source": [
    "### This setup mirrors the \"ls\" command for our EDFS. The user can list all the contents present in a directory. \n",
    "#### To view the contents of a directory, enter the path to the directory with each directory name seperated by a / (eg: /user/john/files)"
   ]
  },
  {
   "cell_type": "code",
   "execution_count": 24,
   "id": "f530a281",
   "metadata": {
    "scrolled": true
   },
   "outputs": [
    {
     "data": {
      "application/vnd.jupyter.widget-view+json": {
       "model_id": "273578aaab7c43eebf858ef1fa49bca4",
       "version_major": 2,
       "version_minor": 0
      },
      "text/plain": [
       "Text(value='', description='Lookup content of folder:', layout=Layout(width='70%'), placeholder='Enter the pat…"
      ]
     },
     "metadata": {},
     "output_type": "display_data"
    },
    {
     "data": {
      "application/vnd.jupyter.widget-view+json": {
       "model_id": "547b493e015640848686906114f7c4f5",
       "version_major": 2,
       "version_minor": 0
      },
      "text/plain": [
       "Button(description='List Contents', style=ButtonStyle())"
      ]
     },
     "metadata": {},
     "output_type": "display_data"
    },
    {
     "data": {
      "application/vnd.jupyter.widget-view+json": {
       "model_id": "e029b87f789740c1b7bbb98c93acc419",
       "version_major": 2,
       "version_minor": 0
      },
      "text/plain": [
       "Output()"
      ]
     },
     "metadata": {},
     "output_type": "display_data"
    }
   ],
   "source": [
    "lsText = widgets.Text(\n",
    "    value='',\n",
    "    placeholder='Enter the path to folder seperated by /',\n",
    "    description='Lookup content of folder:',\n",
    "    disabled=False,\n",
    "    layout=widgets.Layout(width='70%'),\n",
    "    style= {'description_width': 'initial'}\n",
    ")\n",
    "display(lsText)\n",
    "\n",
    "lsBtn = widgets.Button(description='List Contents')\n",
    "display(lsBtn)\n",
    "\n",
    "out = widgets.Output()\n",
    "display(out)\n",
    "def btn_eventhandler(obj):\n",
    "#     print(lsText.value)\n",
    "    with out:\n",
    "        clear_output()\n",
    "        app.ls(lsText.value)\n",
    "lsBtn.on_click(btn_eventhandler)"
   ]
  },
  {
   "cell_type": "markdown",
   "id": "92749bd5",
   "metadata": {},
   "source": [
    "# Insert File"
   ]
  },
  {
   "cell_type": "markdown",
   "id": "cf916187",
   "metadata": {},
   "source": [
    "### This setup mirrors the \"put\" command for our EDFS. The user can insert .csv files into the system\n",
    "#### 1. Enter the path to the directory in which the file must be inserted (Eg: /user/john)\n",
    "#### 2. Enter the name of the .csv file to be inserted (Eg: athlete_events.csv)\n",
    "#### 3. Enter the number of partitions the file should be divided into and stored in our EDFS (Eg: 4)\n",
    "#### 4. Optionally, enter a specific column name on which the data in the .csv file should be partitioned (Eg: Year)"
   ]
  },
  {
   "cell_type": "code",
   "execution_count": 20,
   "id": "1e0cfa65",
   "metadata": {},
   "outputs": [
    {
     "data": {
      "application/vnd.jupyter.widget-view+json": {
       "model_id": "4ecd2576d28a408ba4d076e241da892c",
       "version_major": 2,
       "version_minor": 0
      },
      "text/plain": [
       "Text(value='', description='Directory: ', layout=Layout(width='70%'), placeholder='Enter the path to folder to…"
      ]
     },
     "metadata": {},
     "output_type": "display_data"
    },
    {
     "data": {
      "application/vnd.jupyter.widget-view+json": {
       "model_id": "24df84bd5d4140f6ae68540b9e7dfa8a",
       "version_major": 2,
       "version_minor": 0
      },
      "text/plain": [
       "Text(value='', description='File: ', layout=Layout(width='70%'), placeholder='Enter the file insert', style=De…"
      ]
     },
     "metadata": {},
     "output_type": "display_data"
    },
    {
     "data": {
      "application/vnd.jupyter.widget-view+json": {
       "model_id": "956ed29c90d7469a91c0e4d1fb26d584",
       "version_major": 2,
       "version_minor": 0
      },
      "text/plain": [
       "Text(value='', description='#Partitions: ', layout=Layout(width='70%'), placeholder='Enter the number of parti…"
      ]
     },
     "metadata": {},
     "output_type": "display_data"
    },
    {
     "data": {
      "application/vnd.jupyter.widget-view+json": {
       "model_id": "64fcf92367fe4ef2aad78a2c81cc2764",
       "version_major": 2,
       "version_minor": 0
      },
      "text/plain": [
       "Text(value='', description='Column (optional): ', layout=Layout(width='70%'), placeholder='Enter the column to…"
      ]
     },
     "metadata": {},
     "output_type": "display_data"
    },
    {
     "data": {
      "application/vnd.jupyter.widget-view+json": {
       "model_id": "00021f8d1e7a45d48820b476ec45080a",
       "version_major": 2,
       "version_minor": 0
      },
      "text/plain": [
       "Button(description='Insert File', style=ButtonStyle())"
      ]
     },
     "metadata": {},
     "output_type": "display_data"
    },
    {
     "data": {
      "application/vnd.jupyter.widget-view+json": {
       "model_id": "157d7fc9fac24cedb4fa2d81dbf20405",
       "version_major": 2,
       "version_minor": 0
      },
      "text/plain": [
       "Output()"
      ]
     },
     "metadata": {},
     "output_type": "display_data"
    }
   ],
   "source": [
    "putPath = widgets.Text(\n",
    "    value='',\n",
    "    placeholder='Enter the path to folder to insert into',\n",
    "    description='Directory: ',\n",
    "    disabled=False,\n",
    "    layout=widgets.Layout(width='70%'),\n",
    "    style= {'description_width': 'initial'}\n",
    ")\n",
    "display(putPath)\n",
    "\n",
    "putFile = widgets.Text(\n",
    "    value='',\n",
    "    placeholder='Enter the file insert',\n",
    "    description='File: ',\n",
    "    disabled=False,\n",
    "    layout=widgets.Layout(width='70%'),\n",
    "    style= {'description_width': 'initial'}\n",
    ")\n",
    "display(putFile)\n",
    "\n",
    "putK = widgets.Text(\n",
    "    value='',\n",
    "    placeholder='Enter the number of partitions',\n",
    "    description='#Partitions: ',\n",
    "    disabled=False,\n",
    "    layout=widgets.Layout(width='70%'),\n",
    "    style= {'description_width': 'initial'}\n",
    ")\n",
    "display(putK)\n",
    "\n",
    "putColumn = widgets.Text(\n",
    "    value='',\n",
    "    placeholder='Enter the column to partition data on',\n",
    "    description='Column (optional): ',\n",
    "    disabled=False,\n",
    "    layout=widgets.Layout(width='70%'),\n",
    "    style= {'description_width': 'initial'}\n",
    ")\n",
    "display(putColumn)\n",
    "\n",
    "putBtn = widgets.Button(description='Insert File')\n",
    "display(putBtn)\n",
    "out = widgets.Output()\n",
    "display(out)\n",
    "def btn_eventhandler(obj):\n",
    "#     print(putPath.value, \"\\n\")\n",
    "#     print(putFile.value, \"\\n\")\n",
    "#     print(putK.value, \"\\n\")\n",
    "#     print(putColumn.value, \"\\n\")\n",
    "    with out:\n",
    "        clear_output()\n",
    "        if putColumn.value != '':\n",
    "            put(putPath.value, putFile.value, int(putK.value), putColumn.value)\n",
    "        else:\n",
    "            put(putPath.value, putFile.value, int(putK.value))\n",
    "            \n",
    "putBtn.on_click(btn_eventhandler)"
   ]
  },
  {
   "cell_type": "markdown",
   "id": "0897de36",
   "metadata": {},
   "source": [
    "# Display File Content"
   ]
  },
  {
   "cell_type": "markdown",
   "id": "0f3568c7",
   "metadata": {},
   "source": [
    "### This setup mirrors the \"cat\" command for our EDFS. \n",
    "#### 1. To view the contents of a file, enter the name of the file to view contents of (Eg: athlete_events.csv)\n",
    "#### 2. User may also specify the number of lines of the file to display. By default if no value is provided, the first 5 lines of the file will be displayed."
   ]
  },
  {
   "cell_type": "code",
   "execution_count": 21,
   "id": "b0a082d2",
   "metadata": {},
   "outputs": [
    {
     "data": {
      "application/vnd.jupyter.widget-view+json": {
       "model_id": "0015fbc497c241138e16f34840135c21",
       "version_major": 2,
       "version_minor": 0
      },
      "text/plain": [
       "Text(value='', description='File:', layout=Layout(width='70%'), placeholder='Enter the file to display content…"
      ]
     },
     "metadata": {},
     "output_type": "display_data"
    },
    {
     "data": {
      "application/vnd.jupyter.widget-view+json": {
       "model_id": "ef9016f17f4d4b6493b69f9e8ade57d3",
       "version_major": 2,
       "version_minor": 0
      },
      "text/plain": [
       "Text(value='', description='#Lines:', layout=Layout(width='70%'), placeholder='(Optional) Enter the number of …"
      ]
     },
     "metadata": {},
     "output_type": "display_data"
    },
    {
     "data": {
      "application/vnd.jupyter.widget-view+json": {
       "model_id": "6b42ca4fc24d4c438d1be77717e1eab1",
       "version_major": 2,
       "version_minor": 0
      },
      "text/plain": [
       "Button(description='File Contents', style=ButtonStyle())"
      ]
     },
     "metadata": {},
     "output_type": "display_data"
    },
    {
     "data": {
      "application/vnd.jupyter.widget-view+json": {
       "model_id": "e2ae62f9a232428588e76669467fc4d3",
       "version_major": 2,
       "version_minor": 0
      },
      "text/plain": [
       "Output()"
      ]
     },
     "metadata": {},
     "output_type": "display_data"
    }
   ],
   "source": [
    "catFile = widgets.Text(\n",
    "    value='',\n",
    "    placeholder='Enter the file to display content of',\n",
    "    description='File:',\n",
    "    disabled=False,\n",
    "    layout=widgets.Layout(width='70%'),\n",
    "    style= {'description_width': 'initial'}\n",
    ")\n",
    "display(catFile)\n",
    "\n",
    "catLines = widgets.Text(\n",
    "    value='',\n",
    "    placeholder='(Optional) Enter the number of lines of file to display (default: 5)',\n",
    "    description='#Lines:',\n",
    "    disabled=False,\n",
    "    layout=widgets.Layout(width='70%'),\n",
    "    style= {'description_width': 'initial'}\n",
    ")\n",
    "display(catLines)\n",
    "\n",
    "catBtn = widgets.Button(description='File Contents')\n",
    "display(catBtn)\n",
    "\n",
    "out = widgets.Output()\n",
    "display(out)\n",
    "def btn_eventhandler(obj):\n",
    "#     print(catFile.value)\n",
    "#     print(catLines.value)\n",
    "    with out:\n",
    "        clear_output()\n",
    "        if catLines.value != '':\n",
    "            app.cat(catFile.value, int(catLines.value))\n",
    "        else:\n",
    "            app.cat(catFile.value)\n",
    "\n",
    "catBtn.on_click(btn_eventhandler)\n"
   ]
  },
  {
   "cell_type": "markdown",
   "id": "1553561f",
   "metadata": {},
   "source": [
    "# Remove Content"
   ]
  },
  {
   "cell_type": "markdown",
   "id": "6cd7a47b",
   "metadata": {},
   "source": [
    "### This setup mirrors the \"rm\" command for our EDFS. User can remove a file or entire directory with all its contents.\n",
    "#### 1. To remove a file enter the path to the file (Eg: /user/john/athlete_events.csv will remove the file \"athlete_events.csv\")\n",
    "#### 2. To remove an entire directory, enter the path to the directory (Eg: /user/john will remove \"john\")"
   ]
  },
  {
   "cell_type": "code",
   "execution_count": 22,
   "id": "c25a74c1",
   "metadata": {},
   "outputs": [
    {
     "data": {
      "application/vnd.jupyter.widget-view+json": {
       "model_id": "febd079ff88b4ea397a1eb835d3911f6",
       "version_major": 2,
       "version_minor": 0
      },
      "text/plain": [
       "Text(value='', description='Remove file/folder: ', layout=Layout(width='70%'), placeholder='Enter the path to …"
      ]
     },
     "metadata": {},
     "output_type": "display_data"
    },
    {
     "data": {
      "application/vnd.jupyter.widget-view+json": {
       "model_id": "cc7c701bea05461ca4fb3231fa1e148d",
       "version_major": 2,
       "version_minor": 0
      },
      "text/plain": [
       "Button(description='Remove Contents', style=ButtonStyle())"
      ]
     },
     "metadata": {},
     "output_type": "display_data"
    },
    {
     "data": {
      "application/vnd.jupyter.widget-view+json": {
       "model_id": "0e8ecc8b7904469d9d763caea2421576",
       "version_major": 2,
       "version_minor": 0
      },
      "text/plain": [
       "Output()"
      ]
     },
     "metadata": {},
     "output_type": "display_data"
    }
   ],
   "source": [
    "rmText = widgets.Text(\n",
    "    value='',\n",
    "    placeholder='Enter the path to file/folder to be removed',\n",
    "    description='Remove file/folder: ',\n",
    "    disabled=False,\n",
    "    layout=widgets.Layout(width='70%'),\n",
    "    style= {'description_width': 'initial', 'placeholder_width': 'initial'}\n",
    ")\n",
    "display(rmText)\n",
    "\n",
    "rmBtn = widgets.Button(description='Remove Contents')\n",
    "display(rmBtn)\n",
    "out = widgets.Output()\n",
    "display(out)\n",
    "def btn_eventhandler(obj):\n",
    "    with out:\n",
    "        clear_output()\n",
    "        app.rm(rmText.value)\n",
    "rmBtn.on_click(btn_eventhandler)"
   ]
  },
  {
   "cell_type": "markdown",
   "id": "7bda0c23",
   "metadata": {},
   "source": [
    "# Get Partition Locations"
   ]
  },
  {
   "cell_type": "markdown",
   "id": "27c5b0a5",
   "metadata": {},
   "source": [
    "### This function shows the locations of all the partitions of a file stored in our EDFS system\n",
    "#### 1. Enter the name of the file to retrieve the partition locations for (Eg: athlete_events.csv)\n",
    "#### 2. Enter the path to the file. Do not include the file name (Eg: /user/john)"
   ]
  },
  {
   "cell_type": "code",
   "execution_count": 27,
   "id": "ca8de4b8",
   "metadata": {},
   "outputs": [
    {
     "data": {
      "application/vnd.jupyter.widget-view+json": {
       "model_id": "fa9425c88aa942f6aa02ea4432a403b4",
       "version_major": 2,
       "version_minor": 0
      },
      "text/plain": [
       "Text(value='', description='File: ', layout=Layout(width='70%'), placeholder='Enter the file name to retrieve …"
      ]
     },
     "metadata": {},
     "output_type": "display_data"
    },
    {
     "data": {
      "application/vnd.jupyter.widget-view+json": {
       "model_id": "013931ecb1d94576a03be4fbb8b4f7f6",
       "version_major": 2,
       "version_minor": 0
      },
      "text/plain": [
       "Text(value='', description='Path: ', layout=Layout(width='70%'), placeholder='Enter the path to file', style=D…"
      ]
     },
     "metadata": {},
     "output_type": "display_data"
    },
    {
     "data": {
      "application/vnd.jupyter.widget-view+json": {
       "model_id": "9bfa66d1caad4ba484dea2b7ca38660f",
       "version_major": 2,
       "version_minor": 0
      },
      "text/plain": [
       "Button(description='Get Partitions', style=ButtonStyle())"
      ]
     },
     "metadata": {},
     "output_type": "display_data"
    },
    {
     "data": {
      "application/vnd.jupyter.widget-view+json": {
       "model_id": "9e41d9d6ac4e46d7b7f32bbe3f6feec7",
       "version_major": 2,
       "version_minor": 0
      },
      "text/plain": [
       "Output()"
      ]
     },
     "metadata": {},
     "output_type": "display_data"
    }
   ],
   "source": [
    "gplFile = widgets.Text(\n",
    "    value='',\n",
    "    placeholder='Enter the file name to retrieve partition locations for',\n",
    "    description='File: ',\n",
    "    disabled=False,\n",
    "    layout=widgets.Layout(width='70%'),\n",
    "    style= {'description_width': 'initial'}\n",
    ")\n",
    "display(gplFile)\n",
    "\n",
    "gplPath = widgets.Text(\n",
    "    value='',\n",
    "    placeholder='Enter the path to file',\n",
    "    description='Path: ',\n",
    "    disabled=False,\n",
    "    layout=widgets.Layout(width='70%'),\n",
    "    style= {'description_width': 'initial'}\n",
    ")\n",
    "display(gplPath)\n",
    "\n",
    "gplBtn = widgets.Button(description='Get Partitions')\n",
    "display(gplBtn)\n",
    "out = widgets.Output()\n",
    "display(out)\n",
    "def btn_eventhandler(obj):\n",
    "    with out:\n",
    "        clear_output()\n",
    "        locations = app.getPartitionLocations(gplFile.value, gplPath.value)\n",
    "        app.printPartitionLocations(locations)\n",
    "        \n",
    "gplBtn.on_click(btn_eventhandler)"
   ]
  },
  {
   "cell_type": "markdown",
   "id": "4c92aa5f",
   "metadata": {},
   "source": [
    "# Read Partition"
   ]
  },
  {
   "cell_type": "code",
   "execution_count": null,
   "id": "fcf9858d",
   "metadata": {},
   "outputs": [],
   "source": [
    "# mapText = widgets.Text(\n",
    "#     value='',\n",
    "#     placeholder='Enter the partition to retrieve data from',\n",
    "#     description='?: ',\n",
    "#     disabled=False,\n",
    "#     layout=widgets.Layout(width='70%'),\n",
    "#     style= {'description_width': 'initial'}\n",
    "# )\n",
    "# display(mapText)\n",
    "\n",
    "# mapBtn = widgets.Button(description='Get Partition Data')\n",
    "# display(mapBtn)\n",
    "# out = widgets.Output()\n",
    "# display(out)\n",
    "# def btn_eventhandler(obj):\n",
    "#     with out:\n",
    "#         clear_output()\n",
    "#         map.mapPartition(mapText.value)\n",
    "        \n",
    "# mapBtn.on_click(btn_eventhandler)"
   ]
  },
  {
   "cell_type": "markdown",
   "id": "73360e0c",
   "metadata": {},
   "source": [
    "# Search Functionality"
   ]
  },
  {
   "cell_type": "markdown",
   "id": "c88dcc80",
   "metadata": {},
   "source": [
    "### The search functionality allows the user to search for particular values in a file. Our EDFS will retrieve the corresponding data for that value by searching the data stored in various partitions.\n",
    "#### 1. Enter the name of the .csv file to search in (Eg: athlete_events.csv)\n",
    "#### 2. Enter the column name in which to search for a value (Eg: Country)\n",
    "#### 3. Enter the specific search term to display the corresponding data for (Eg: India)"
   ]
  },
  {
   "cell_type": "code",
   "execution_count": 10,
   "id": "ee168544",
   "metadata": {},
   "outputs": [
    {
     "name": "stdout",
     "output_type": "stream",
     "text": [
      "Displays all records that match the Search Term\n"
     ]
    },
    {
     "data": {
      "application/vnd.jupyter.widget-view+json": {
       "model_id": "4b99338ebb3542618c47c589aad421b7",
       "version_major": 2,
       "version_minor": 0
      },
      "text/plain": [
       "Text(value='', description='File: ', layout=Layout(width='70%'), placeholder='Enter the file to search', style…"
      ]
     },
     "metadata": {},
     "output_type": "display_data"
    },
    {
     "data": {
      "application/vnd.jupyter.widget-view+json": {
       "model_id": "d484e0cf546244ad8856a6481d25ca67",
       "version_major": 2,
       "version_minor": 0
      },
      "text/plain": [
       "Text(value='', description='Column: ', layout=Layout(width='70%'), placeholder='Enter the column to search on'…"
      ]
     },
     "metadata": {},
     "output_type": "display_data"
    },
    {
     "data": {
      "application/vnd.jupyter.widget-view+json": {
       "model_id": "78d75313a34d4c0fa66e9261096abd59",
       "version_major": 2,
       "version_minor": 0
      },
      "text/plain": [
       "Text(value='', description='Search Term: ', layout=Layout(width='70%'), placeholder='Enter the search term', s…"
      ]
     },
     "metadata": {},
     "output_type": "display_data"
    },
    {
     "data": {
      "application/vnd.jupyter.widget-view+json": {
       "model_id": "715cc706543a427497a270745ef0db11",
       "version_major": 2,
       "version_minor": 0
      },
      "text/plain": [
       "Button(description='Search', style=ButtonStyle())"
      ]
     },
     "metadata": {},
     "output_type": "display_data"
    },
    {
     "data": {
      "application/vnd.jupyter.widget-view+json": {
       "model_id": "3059a53ddfc045e5aaa1ca610c2542da",
       "version_major": 2,
       "version_minor": 0
      },
      "text/plain": [
       "Output()"
      ]
     },
     "metadata": {},
     "output_type": "display_data"
    }
   ],
   "source": [
    "print(\"Displays all records that match the Search Term\")\n",
    "\n",
    "searchFile = widgets.Text(\n",
    "    value='',\n",
    "    placeholder='Enter the file to search',\n",
    "    description='File: ',\n",
    "    disabled=False,\n",
    "    layout=widgets.Layout(width='70%'),\n",
    "    style= {'description_width': 'initial'}\n",
    ")\n",
    "display(searchFile)\n",
    "\n",
    "searchCol = widgets.Text(\n",
    "    value='',\n",
    "    placeholder='Enter the column to search on',\n",
    "    description='Column: ',\n",
    "    disabled=False,\n",
    "    layout=widgets.Layout(width='70%'),\n",
    "    style= {'description_width': 'initial'}\n",
    ")\n",
    "display(searchCol)\n",
    "\n",
    "searchTerm = widgets.Text(\n",
    "    value='',\n",
    "    placeholder='Enter the search term',\n",
    "    description='Search Term: ',\n",
    "    disabled=False,\n",
    "    layout=widgets.Layout(width='70%'),\n",
    "    style= {'description_width': 'initial'}\n",
    ")\n",
    "display(searchTerm)\n",
    "\n",
    "searchBtn = widgets.Button(description='Search')\n",
    "display(searchBtn)\n",
    "out = widgets.Output()\n",
    "display(out)\n",
    "def btn_eventhandler(obj):\n",
    "#     print(searchFile.value, \"\\n\")\n",
    "#     print(searchCol.value, \"\\n\")\n",
    "#     print(searchTerm.value, \"\\n\")\n",
    "    with out:\n",
    "        clear_output()\n",
    "        app.search(searchFile.value, searchCol.value, searchTerm.value)\n",
    "        \n",
    "searchBtn.on_click(btn_eventhandler)"
   ]
  },
  {
   "cell_type": "markdown",
   "id": "c649cdff",
   "metadata": {},
   "source": [
    "# Analytics"
   ]
  },
  {
   "cell_type": "markdown",
   "id": "b5b9e979",
   "metadata": {},
   "source": [
    "### The analytics functionality allows the user to perform basic analysis on any .csv file present in the EDFS. \n",
    "### The possible analytical and statistical operations are:\n",
    "#### 1. Mean / Average value\n",
    "#### 2. Minimum and Maximum Values\n",
    "#### 3. Data in a specific value range\n",
    "#### 4. Standard deviation of data\n",
    "#### 5. Median of data\n",
    "#### 6. Mode of data\n",
    "\n",
    "### To perform analytics:\n",
    "#### 1. Enter the name of the .csv file to analyse (Eg: athlete_events.csv)\n",
    "#### 2. Enter the column to analyse data on (Eg: Medals)\n",
    "#### 3. Choose the desired analytical operation from the dropdown menu"
   ]
  },
  {
   "cell_type": "code",
   "execution_count": 16,
   "id": "6a06d97b",
   "metadata": {},
   "outputs": [
    {
     "name": "stdout",
     "output_type": "stream",
     "text": [
      "Analytics available : Mean, Minimum, Maximum, Range, Standard Deviation, Median, Mode\n"
     ]
    },
    {
     "data": {
      "application/vnd.jupyter.widget-view+json": {
       "model_id": "4532958b9e594de2ae9ee4fdc4dbf691",
       "version_major": 2,
       "version_minor": 0
      },
      "text/plain": [
       "Text(value='', description='File: ', layout=Layout(width='70%'), placeholder='Enter the file name', style=Desc…"
      ]
     },
     "metadata": {},
     "output_type": "display_data"
    },
    {
     "data": {
      "application/vnd.jupyter.widget-view+json": {
       "model_id": "d1299a0e33da46ab83791aeebd4f2906",
       "version_major": 2,
       "version_minor": 0
      },
      "text/plain": [
       "Text(value='', description='Column: ', layout=Layout(width='70%'), placeholder='Enter the column to analyse da…"
      ]
     },
     "metadata": {},
     "output_type": "display_data"
    },
    {
     "data": {
      "application/vnd.jupyter.widget-view+json": {
       "model_id": "48414fa85ebe491a91df0fd73c99821f",
       "version_major": 2,
       "version_minor": 0
      },
      "text/plain": [
       "Dropdown(description='Analytics Function: ', layout=Layout(width='70%'), options=('mean', 'minimum', 'maximum'…"
      ]
     },
     "metadata": {},
     "output_type": "display_data"
    },
    {
     "data": {
      "application/vnd.jupyter.widget-view+json": {
       "model_id": "e691bc7deb694134af6cf9a51d659169",
       "version_major": 2,
       "version_minor": 0
      },
      "text/plain": [
       "Button(description='Get Analytics', style=ButtonStyle())"
      ]
     },
     "metadata": {},
     "output_type": "display_data"
    },
    {
     "data": {
      "application/vnd.jupyter.widget-view+json": {
       "model_id": "a3bea52f338f4bc0b705b89177579620",
       "version_major": 2,
       "version_minor": 0
      },
      "text/plain": [
       "Output()"
      ]
     },
     "metadata": {},
     "output_type": "display_data"
    }
   ],
   "source": [
    "print(\"Analytics available : Mean, Minimum, Maximum, Range, Standard Deviation, Median, Mode\")\n",
    "anaFile = widgets.Text(\n",
    "    value='',\n",
    "    placeholder='Enter the file name',\n",
    "    description='File: ',\n",
    "    disabled=False,\n",
    "    layout=widgets.Layout(width='70%'),\n",
    "    style= {'description_width': 'initial'}\n",
    ")\n",
    "display(anaFile)\n",
    "\n",
    "anaCol = widgets.Text(\n",
    "    value='',\n",
    "    placeholder='Enter the column to analyse data on',\n",
    "    description='Column: ',\n",
    "    disabled=False,\n",
    "    layout=widgets.Layout(width='70%'),\n",
    "    style= {'description_width': 'initial'}\n",
    ")\n",
    "display(anaCol)\n",
    "\n",
    "anaFun = widgets.Dropdown(\n",
    "    options=['mean', 'minimum', 'maximum', 'range', 'standardDeviation', 'median', 'mode'],\n",
    "    value='mean',\n",
    "    description='Analytics Function: ',\n",
    "    disabled=False,\n",
    "    layout=widgets.Layout(width='70%'),\n",
    "    style= {'description_width': 'initial'}\n",
    ")\n",
    "display(anaFun)\n",
    "\n",
    "anaBtn = widgets.Button(description='Get Analytics')\n",
    "display(anaBtn)\n",
    "out = widgets.Output()\n",
    "display(out)\n",
    "def btn_eventhandler(obj):\n",
    "    with out:\n",
    "        clear_output()\n",
    "        app.dataAnalytics(anaFile.value, anaCol.value, anaFun.value)\n",
    "        \n",
    "anaBtn.on_click(btn_eventhandler)"
   ]
  },
  {
   "cell_type": "code",
   "execution_count": null,
   "id": "6bd89f00",
   "metadata": {},
   "outputs": [],
   "source": []
  }
 ],
 "metadata": {
  "interpreter": {
   "hash": "31f2aee4e71d21fbe5cf8b01ff0e069b9275f58929596ceb00d14d90e3e16cd6"
  },
  "kernelspec": {
   "display_name": "Python 3 (ipykernel)",
   "language": "python",
   "name": "python3"
  },
  "language_info": {
   "codemirror_mode": {
    "name": "ipython",
    "version": 3
   },
   "file_extension": ".py",
   "mimetype": "text/x-python",
   "name": "python",
   "nbconvert_exporter": "python",
   "pygments_lexer": "ipython3",
   "version": "3.9.8"
  }
 },
 "nbformat": 4,
 "nbformat_minor": 5
}
