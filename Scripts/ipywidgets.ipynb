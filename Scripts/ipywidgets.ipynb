{
 "cells": [
  {
   "cell_type": "code",
   "execution_count": 68,
   "id": "ea48aa8b",
   "metadata": {},
   "outputs": [],
   "source": [
    "import ipywidgets as widgets\n",
    "from IPython.display import display\n",
    "from app import *\n"
   ]
  },
  {
   "cell_type": "markdown",
   "id": "abaec176",
   "metadata": {},
   "source": [
    "# Create new Directory"
   ]
  },
  {
   "cell_type": "code",
   "execution_count": 77,
   "id": "fefd0234",
   "metadata": {},
   "outputs": [
    {
     "data": {
      "application/vnd.jupyter.widget-view+json": {
       "model_id": "6d7c2f3004d846c4a943dfecd94bf2b9",
       "version_major": 2,
       "version_minor": 0
      },
      "text/plain": [
       "Text(value='', description='Make new directory:', layout=Layout(width='70%'), placeholder='Enter the directory…"
      ]
     },
     "metadata": {},
     "output_type": "display_data"
    },
    {
     "data": {
      "application/vnd.jupyter.widget-view+json": {
       "model_id": "fcf140212a6f4e84bf7494f80193b449",
       "version_major": 2,
       "version_minor": 0
      },
      "text/plain": [
       "Button(description='Make Directory', style=ButtonStyle())"
      ]
     },
     "metadata": {},
     "output_type": "display_data"
    }
   ],
   "source": [
    "mkdirText = widgets.Text(\n",
    "    value='',\n",
    "    placeholder='Enter the directory structure with each folder seperated by /',\n",
    "    description='Make new directory:',\n",
    "    disabled=False,\n",
    "    layout=widgets.Layout(width='70%'),\n",
    "    style= {'description_width': 'initial'}\n",
    ")\n",
    "display(mkdirText)\n",
    "\n",
    "mkdirBtn = widgets.Button(description='Make Directory')\n",
    "display(mkdirBtn)\n",
    "def btn_eventhandler(obj):\n",
    "#     print(mkdirText.value)\n",
    "    app.mkdir(mkdirText.value)\n",
    "mkdirBtn.on_click(btn_eventhandler)"
   ]
  },
  {
   "cell_type": "markdown",
   "id": "344cc15f",
   "metadata": {},
   "source": [
    "# List Contents"
   ]
  },
  {
   "cell_type": "code",
   "execution_count": 78,
   "id": "1add4d30",
   "metadata": {},
   "outputs": [
    {
     "data": {
      "application/vnd.jupyter.widget-view+json": {
       "model_id": "68c96ed9679841edab827ee83b2f1ede",
       "version_major": 2,
       "version_minor": 0
      },
      "text/plain": [
       "Text(value='', description='Lookup content of folder:', layout=Layout(width='70%'), placeholder='Enter the pat…"
      ]
     },
     "metadata": {},
     "output_type": "display_data"
    },
    {
     "data": {
      "application/vnd.jupyter.widget-view+json": {
       "model_id": "5096c3964d3347f7bf636630eb0a8393",
       "version_major": 2,
       "version_minor": 0
      },
      "text/plain": [
       "Button(description='List Contents', style=ButtonStyle())"
      ]
     },
     "metadata": {},
     "output_type": "display_data"
    }
   ],
   "source": [
    "lsText = widgets.Text(\n",
    "    value='',\n",
    "    placeholder='Enter the path to folder seperated by /',\n",
    "    description='Lookup content of folder:',\n",
    "    disabled=False,\n",
    "    layout=widgets.Layout(width='70%'),\n",
    "    style= {'description_width': 'initial'}\n",
    ")\n",
    "display(lsText)\n",
    "\n",
    "lsBtn = widgets.Button(description='List Contents')\n",
    "display(lsBtn)\n",
    "def btn_eventhandler(obj):\n",
    "#     print(lsText.value)\n",
    "    app.ls(lsText.value)\n",
    "lsBtn.on_click(btn_eventhandler)"
   ]
  },
  {
   "cell_type": "markdown",
   "id": "579a2d42",
   "metadata": {},
   "source": [
    "# Remove Content"
   ]
  },
  {
   "cell_type": "code",
   "execution_count": 79,
   "id": "c92ff6a3",
   "metadata": {},
   "outputs": [
    {
     "data": {
      "application/vnd.jupyter.widget-view+json": {
       "model_id": "a3569ab50e994a56a7f059b58fef1821",
       "version_major": 2,
       "version_minor": 0
      },
      "text/plain": [
       "Text(value='', description='Remove file/folder: ', layout=Layout(width='70%'), placeholder='Enter the path to …"
      ]
     },
     "metadata": {},
     "output_type": "display_data"
    },
    {
     "data": {
      "application/vnd.jupyter.widget-view+json": {
       "model_id": "5372321b6f6748f79d9a653b0129404e",
       "version_major": 2,
       "version_minor": 0
      },
      "text/plain": [
       "Button(description='Remove Contents', style=ButtonStyle())"
      ]
     },
     "metadata": {},
     "output_type": "display_data"
    }
   ],
   "source": [
    "rmText = widgets.Text(\n",
    "    value='',\n",
    "    placeholder='Enter the path to file/folder to be removed',\n",
    "    description='Remove file/folder: ',\n",
    "    disabled=False,\n",
    "    layout=widgets.Layout(width='70%'),\n",
    "    style= {'description_width': 'initial', 'placeholder_width': 'initial'}\n",
    ")\n",
    "display(rmText)\n",
    "\n",
    "rmBtn = widgets.Button(description='Remove Contents')\n",
    "display(rmBtn)\n",
    "def btn_eventhandler(obj):\n",
    "#     print(rmText.value)\n",
    "    app.rm(rmText.value)\n",
    "rmBtn.on_click(btn_eventhandler)"
   ]
  },
  {
   "cell_type": "markdown",
   "id": "1d9c30a1",
   "metadata": {},
   "source": [
    "# Insert File"
   ]
  },
  {
   "cell_type": "code",
   "execution_count": 80,
   "id": "209cebdd",
   "metadata": {},
   "outputs": [
    {
     "data": {
      "application/vnd.jupyter.widget-view+json": {
       "model_id": "4cd9c7b660d14d81b12b85a88102e364",
       "version_major": 2,
       "version_minor": 0
      },
      "text/plain": [
       "Text(value='', description='Directory: ', layout=Layout(width='70%'), placeholder='Enter the path to folder to…"
      ]
     },
     "metadata": {},
     "output_type": "display_data"
    },
    {
     "data": {
      "application/vnd.jupyter.widget-view+json": {
       "model_id": "5644733b127a43a5bf52fe35c0bf6187",
       "version_major": 2,
       "version_minor": 0
      },
      "text/plain": [
       "Text(value='', description='File: ', layout=Layout(width='70%'), placeholder='Enter the file insert', style=De…"
      ]
     },
     "metadata": {},
     "output_type": "display_data"
    },
    {
     "data": {
      "application/vnd.jupyter.widget-view+json": {
       "model_id": "7f64064cfb7f469d82a6ace43179db94",
       "version_major": 2,
       "version_minor": 0
      },
      "text/plain": [
       "Text(value='', description='#Partitions: ', layout=Layout(width='70%'), placeholder='Enter the number of parti…"
      ]
     },
     "metadata": {},
     "output_type": "display_data"
    },
    {
     "data": {
      "application/vnd.jupyter.widget-view+json": {
       "model_id": "30a56a691e9f437eb184e2b852ee00cc",
       "version_major": 2,
       "version_minor": 0
      },
      "text/plain": [
       "Text(value='', description='Column (optional): ', layout=Layout(width='70%'), placeholder='Enter the column to…"
      ]
     },
     "metadata": {},
     "output_type": "display_data"
    },
    {
     "data": {
      "application/vnd.jupyter.widget-view+json": {
       "model_id": "c939d7ff82854fa18f558a455a97efc9",
       "version_major": 2,
       "version_minor": 0
      },
      "text/plain": [
       "Button(description='Insert File', style=ButtonStyle())"
      ]
     },
     "metadata": {},
     "output_type": "display_data"
    }
   ],
   "source": [
    "putPath = widgets.Text(\n",
    "    value='',\n",
    "    placeholder='Enter the path to folder to insert into',\n",
    "    description='Directory: ',\n",
    "    disabled=False,\n",
    "    layout=widgets.Layout(width='70%'),\n",
    "    style= {'description_width': 'initial'}\n",
    ")\n",
    "display(putPath)\n",
    "\n",
    "putFile = widgets.Text(\n",
    "    value='',\n",
    "    placeholder='Enter the file insert',\n",
    "    description='File: ',\n",
    "    disabled=False,\n",
    "    layout=widgets.Layout(width='70%'),\n",
    "    style= {'description_width': 'initial'}\n",
    ")\n",
    "display(putFile)\n",
    "\n",
    "putK = widgets.Text(\n",
    "    value='',\n",
    "    placeholder='Enter the number of partitions',\n",
    "    description='#Partitions: ',\n",
    "    disabled=False,\n",
    "    layout=widgets.Layout(width='70%'),\n",
    "    style= {'description_width': 'initial'}\n",
    ")\n",
    "display(putK)\n",
    "\n",
    "putColumn = widgets.Text(\n",
    "    value='',\n",
    "    placeholder='Enter the column to partition data on',\n",
    "    description='Column (optional): ',\n",
    "    disabled=False,\n",
    "    layout=widgets.Layout(width='70%'),\n",
    "    style= {'description_width': 'initial'}\n",
    ")\n",
    "display(putColumn)\n",
    "\n",
    "putBtn = widgets.Button(description='Insert File')\n",
    "display(putBtn)\n",
    "def btn_eventhandler(obj):\n",
    "#     print(putPath.value, \"\\n\")\n",
    "#     print(putFile.value, \"\\n\")\n",
    "#     print(putK.value, \"\\n\")\n",
    "#     print(putColumn.value, \"\\n\")\n",
    "    if putColumn.value != '':\n",
    "        put(putPath.value, putFile.value, int(putK.value), putColumn.value)\n",
    "    else:\n",
    "        put(putPath.value, putFile.value, int(putK.value))\n",
    "putBtn.on_click(btn_eventhandler)"
   ]
  },
  {
   "cell_type": "markdown",
   "id": "42e28a02",
   "metadata": {},
   "source": [
    "# Get Partition Locations"
   ]
  },
  {
   "cell_type": "code",
   "execution_count": 81,
   "id": "fb4813c7",
   "metadata": {},
   "outputs": [
    {
     "data": {
      "application/vnd.jupyter.widget-view+json": {
       "model_id": "0ef3b131bc7e4f77ac943d1ac2627f1e",
       "version_major": 2,
       "version_minor": 0
      },
      "text/plain": [
       "Text(value='', description='File: ', layout=Layout(width='70%'), placeholder='Enter the file name to retrieve …"
      ]
     },
     "metadata": {},
     "output_type": "display_data"
    },
    {
     "data": {
      "application/vnd.jupyter.widget-view+json": {
       "model_id": "4240a8cfd2e848bea1717c6cc5f90cc6",
       "version_major": 2,
       "version_minor": 0
      },
      "text/plain": [
       "Button(description='Get Partitions', style=ButtonStyle())"
      ]
     },
     "metadata": {},
     "output_type": "display_data"
    }
   ],
   "source": [
    "gplText = widgets.Text(\n",
    "    value='',\n",
    "    placeholder='Enter the file name to retrieve partition locations for',\n",
    "    description='File: ',\n",
    "    disabled=False,\n",
    "    layout=widgets.Layout(width='70%'),\n",
    "    style= {'description_width': 'initial'}\n",
    ")\n",
    "display(gplText)\n",
    "\n",
    "gplBtn = widgets.Button(description='Get Partitions')\n",
    "display(gplBtn)\n",
    "def btn_eventhandler(obj):\n",
    "#     print(gplText.value)\n",
    "    app.rm(rmText.value)\n",
    "gplBtn.on_click(btn_eventhandler)"
   ]
  },
  {
   "cell_type": "markdown",
   "id": "14f80551",
   "metadata": {},
   "source": [
    "# Search Functionality"
   ]
  },
  {
   "cell_type": "code",
   "execution_count": 82,
   "id": "83923de3",
   "metadata": {},
   "outputs": [
    {
     "data": {
      "application/vnd.jupyter.widget-view+json": {
       "model_id": "7cad2e6b28104d048771a9afc6d22554",
       "version_major": 2,
       "version_minor": 0
      },
      "text/plain": [
       "Text(value='', description='File: ', layout=Layout(width='70%'), placeholder='Enter the file to search', style…"
      ]
     },
     "metadata": {},
     "output_type": "display_data"
    },
    {
     "data": {
      "application/vnd.jupyter.widget-view+json": {
       "model_id": "c59232a03d884a99a1929b539bd4ba11",
       "version_major": 2,
       "version_minor": 0
      },
      "text/plain": [
       "Text(value='', description='Column: ', layout=Layout(width='70%'), placeholder='Enter the column to search on'…"
      ]
     },
     "metadata": {},
     "output_type": "display_data"
    },
    {
     "data": {
      "application/vnd.jupyter.widget-view+json": {
       "model_id": "2bceb6f1d4304a7783eb6e03027ddaad",
       "version_major": 2,
       "version_minor": 0
      },
      "text/plain": [
       "Text(value='', description='Search Term: ', layout=Layout(width='70%'), placeholder='Enter the search term', s…"
      ]
     },
     "metadata": {},
     "output_type": "display_data"
    },
    {
     "data": {
      "application/vnd.jupyter.widget-view+json": {
       "model_id": "0ec65c217d174ec0a8fb22c56b00be23",
       "version_major": 2,
       "version_minor": 0
      },
      "text/plain": [
       "Button(description='Search', style=ButtonStyle())"
      ]
     },
     "metadata": {},
     "output_type": "display_data"
    }
   ],
   "source": [
    "searchFile = widgets.Text(\n",
    "    value='',\n",
    "    placeholder='Enter the file to search',\n",
    "    description='File: ',\n",
    "    disabled=False,\n",
    "    layout=widgets.Layout(width='70%'),\n",
    "    style= {'description_width': 'initial'}\n",
    ")\n",
    "display(searchFile)\n",
    "\n",
    "searchCol = widgets.Text(\n",
    "    value='',\n",
    "    placeholder='Enter the column to search on',\n",
    "    description='Column: ',\n",
    "    disabled=False,\n",
    "    layout=widgets.Layout(width='70%'),\n",
    "    style= {'description_width': 'initial'}\n",
    ")\n",
    "display(searchCol)\n",
    "\n",
    "searchTerm = widgets.Text(\n",
    "    value='',\n",
    "    placeholder='Enter the search term',\n",
    "    description='Search Term: ',\n",
    "    disabled=False,\n",
    "    layout=widgets.Layout(width='70%'),\n",
    "    style= {'description_width': 'initial'}\n",
    ")\n",
    "display(searchTerm)\n",
    "\n",
    "searchBtn = widgets.Button(description='Search')\n",
    "display(searchBtn)\n",
    "def btn_eventhandler(obj):\n",
    "#     print(searchFile.value, \"\\n\")\n",
    "#     print(searchCol.value, \"\\n\")\n",
    "#     print(searchTerm.value, \"\\n\")\n",
    "    app.search(searchFile.value, searchCol.value, searchTerm.value)\n",
    "searchBtn.on_click(btn_eventhandler)"
   ]
  },
  {
   "cell_type": "markdown",
   "id": "5212610b",
   "metadata": {},
   "source": [
    "# Analytics"
   ]
  },
  {
   "cell_type": "code",
   "execution_count": 60,
   "id": "0298aadc",
   "metadata": {},
   "outputs": [
    {
     "data": {
      "application/vnd.jupyter.widget-view+json": {
       "model_id": "000bd11d70e44cb5b8319dab70a0fe23",
       "version_major": 2,
       "version_minor": 0
      },
      "text/plain": [
       "Text(value='', description='File: ', placeholder='Enter the file name')"
      ]
     },
     "metadata": {},
     "output_type": "display_data"
    },
    {
     "data": {
      "application/vnd.jupyter.widget-view+json": {
       "model_id": "e849531fec1242c18192c58033d1f198",
       "version_major": 2,
       "version_minor": 0
      },
      "text/plain": [
       "Text(value='', description='Column: ', placeholder='Enter the column to analyse data on')"
      ]
     },
     "metadata": {},
     "output_type": "display_data"
    },
    {
     "data": {
      "application/vnd.jupyter.widget-view+json": {
       "model_id": "52af89811fde487b8bf1bff9b8887d62",
       "version_major": 2,
       "version_minor": 0
      },
      "text/plain": [
       "Dropdown(description='Analytics Function: ', options=('mean', 'minimum', 'maximum', 'range', 'standardDeviatio…"
      ]
     },
     "metadata": {},
     "output_type": "display_data"
    },
    {
     "data": {
      "application/vnd.jupyter.widget-view+json": {
       "model_id": "ae7d673411af4794a1274095468ca2f4",
       "version_major": 2,
       "version_minor": 0
      },
      "text/plain": [
       "Button(description='Analytics', style=ButtonStyle())"
      ]
     },
     "metadata": {},
     "output_type": "display_data"
    },
    {
     "name": "stdout",
     "output_type": "stream",
     "text": [
      "abc \n",
      "\n",
      "def \n",
      "\n",
      "maximum \n",
      "\n"
     ]
    }
   ],
   "source": [
    "anaFile = widgets.Text(\n",
    "    value='',\n",
    "    placeholder='Enter the file name',\n",
    "    description='File: ',\n",
    "    disabled=False,\n",
    "    layout=widgets.Layout(width='70%'),\n",
    "    style= {'description_width': 'initial'}\n",
    ")\n",
    "display(anaFile)\n",
    "\n",
    "anaCol = widgets.Text(\n",
    "    value='',\n",
    "    placeholder='Enter the column to analyse data on',\n",
    "    description='Column: ',\n",
    "    disabled=False,\n",
    "    layout=widgets.Layout(width='70%'),\n",
    "    style= {'description_width': 'initial'}\n",
    ")\n",
    "display(anaCol)\n",
    "\n",
    "anaFun = widgets.Dropdown(\n",
    "    options=['mean', 'minimum', 'maximum', 'range', 'standardDeviation', 'median', 'mode'],\n",
    "    value='mean',\n",
    "    description='Analytics Function: ',\n",
    "    disabled=False,\n",
    "    layout=widgets.Layout(width='70%'),\n",
    "    style= {'description_width': 'initial'}\n",
    ")\n",
    "display(anaFun)\n",
    "\n",
    "anaBtn = widgets.Button(description='Analytics')\n",
    "display(anaBtn)\n",
    "def btn_eventhandler(obj):\n",
    "    print(anaFile.value, \"\\n\")\n",
    "    print(anaCol.value, \"\\n\")\n",
    "    print(anaFun.value, \"\\n\")\n",
    "#     app.dataAnalytics(anaFile.value, anaCol.value, anaFun.value)\n",
    "anaBtn.on_click(btn_eventhandler)"
   ]
  },
  {
   "cell_type": "code",
   "execution_count": null,
   "id": "9a957132",
   "metadata": {},
   "outputs": [],
   "source": []
  }
 ],
 "metadata": {
  "kernelspec": {
   "display_name": "Python 3 (ipykernel)",
   "language": "python",
   "name": "python3"
  },
  "language_info": {
   "codemirror_mode": {
    "name": "ipython",
    "version": 3
   },
   "file_extension": ".py",
   "mimetype": "text/x-python",
   "name": "python",
   "nbconvert_exporter": "python",
   "pygments_lexer": "ipython3",
   "version": "3.9.8"
  }
 },
 "nbformat": 4,
 "nbformat_minor": 5
}
