{
 "cells": [
  {
   "cell_type": "code",
   "execution_count": 28,
   "id": "04127c60",
   "metadata": {},
   "outputs": [],
   "source": [
    "import ipywidgets as widgets\n",
    "from IPython.display import display\n",
    "import app\n",
    "from app import *\n",
    "import map\n",
    "from map import *\n",
    "import importlib\n",
    "importlib.reload(app)\n",
    "from IPython.display import clear_output"
   ]
  },
  {
   "cell_type": "markdown",
   "id": "d724d22b",
   "metadata": {},
   "source": [
    "# Create New Directory"
   ]
  },
  {
   "cell_type": "code",
   "execution_count": 19,
   "id": "480388d4",
   "metadata": {},
   "outputs": [
    {
     "data": {
      "application/vnd.jupyter.widget-view+json": {
       "model_id": "85ba64e8aeea4bbd9d7623805ba1c966",
       "version_major": 2,
       "version_minor": 0
      },
      "text/plain": [
       "Text(value='', description='Make new directory:', layout=Layout(width='70%'), placeholder='Enter the directory…"
      ]
     },
     "metadata": {},
     "output_type": "display_data"
    },
    {
     "data": {
      "application/vnd.jupyter.widget-view+json": {
       "model_id": "09e227ecf8294050832d57a51dfa1c19",
       "version_major": 2,
       "version_minor": 0
      },
      "text/plain": [
       "Button(description='Make Directory', style=ButtonStyle())"
      ]
     },
     "metadata": {},
     "output_type": "display_data"
    },
    {
     "data": {
      "application/vnd.jupyter.widget-view+json": {
       "model_id": "96763bdf39944689930895096ebbf4f2",
       "version_major": 2,
       "version_minor": 0
      },
      "text/plain": [
       "Output()"
      ]
     },
     "metadata": {},
     "output_type": "display_data"
    }
   ],
   "source": [
    "mkdirText = widgets.Text(\n",
    "    value='',\n",
    "    placeholder='Enter the directory structure with each folder seperated by /',\n",
    "    description='Make new directory:',\n",
    "    disabled=False,\n",
    "    layout=widgets.Layout(width='70%'),\n",
    "    style= {'description_width': 'initial'}\n",
    ")\n",
    "display(mkdirText)\n",
    "\n",
    "mkdirBtn = widgets.Button(description='Make Directory')\n",
    "display(mkdirBtn)\n",
    "out = widgets.Output()\n",
    "display(out)\n",
    "def btn_eventhandler(obj):\n",
    "    with out:\n",
    "        clear_output()\n",
    "        app.mkdir(mkdirText.value)\n",
    "\n",
    "mkdirBtn.on_click(btn_eventhandler)"
   ]
  },
  {
   "cell_type": "markdown",
   "id": "1cdd266d",
   "metadata": {},
   "source": [
    "# List Contents"
   ]
  },
  {
   "cell_type": "code",
   "execution_count": 20,
   "id": "f530a281",
   "metadata": {},
   "outputs": [
    {
     "data": {
      "application/vnd.jupyter.widget-view+json": {
       "model_id": "ea19da6c9d70454dbb891f4afa665675",
       "version_major": 2,
       "version_minor": 0
      },
      "text/plain": [
       "Text(value='', description='Lookup content of folder:', layout=Layout(width='70%'), placeholder='Enter the pat…"
      ]
     },
     "metadata": {},
     "output_type": "display_data"
    },
    {
     "data": {
      "application/vnd.jupyter.widget-view+json": {
       "model_id": "3160515204b94110a4f3e350aeaaf390",
       "version_major": 2,
       "version_minor": 0
      },
      "text/plain": [
       "Button(description='List Contents', style=ButtonStyle())"
      ]
     },
     "metadata": {},
     "output_type": "display_data"
    },
    {
     "data": {
      "application/vnd.jupyter.widget-view+json": {
       "model_id": "33372a95e47046de882ecdf21295d55e",
       "version_major": 2,
       "version_minor": 0
      },
      "text/plain": [
       "Output()"
      ]
     },
     "metadata": {},
     "output_type": "display_data"
    }
   ],
   "source": [
    "lsText = widgets.Text(\n",
    "    value='',\n",
    "    placeholder='Enter the path to folder seperated by /',\n",
    "    description='Lookup content of folder:',\n",
    "    disabled=False,\n",
    "    layout=widgets.Layout(width='70%'),\n",
    "    style= {'description_width': 'initial'}\n",
    ")\n",
    "display(lsText)\n",
    "\n",
    "lsBtn = widgets.Button(description='List Contents')\n",
    "display(lsBtn)\n",
    "\n",
    "out = widgets.Output()\n",
    "display(out)\n",
    "def btn_eventhandler(obj):\n",
    "#     print(lsText.value)\n",
    "    with out:\n",
    "        clear_output()\n",
    "        app.ls(lsText.value)\n",
    "lsBtn.on_click(btn_eventhandler)"
   ]
  },
  {
   "cell_type": "markdown",
   "id": "0897de36",
   "metadata": {},
   "source": [
    "# Display File Content"
   ]
  },
  {
   "cell_type": "code",
   "execution_count": 29,
   "id": "b0a082d2",
   "metadata": {},
   "outputs": [
    {
     "data": {
      "application/vnd.jupyter.widget-view+json": {
       "model_id": "7a436f0b85ee4b35ac6e3956584dfa60",
       "version_major": 2,
       "version_minor": 0
      },
      "text/plain": [
       "Text(value='', description='File:', layout=Layout(width='70%'), placeholder='Enter the file to display content…"
      ]
     },
     "metadata": {},
     "output_type": "display_data"
    },
    {
     "data": {
      "application/vnd.jupyter.widget-view+json": {
       "model_id": "8b27e605a0e244e48eddfa247b762153",
       "version_major": 2,
       "version_minor": 0
      },
      "text/plain": [
       "Text(value='', description='#Lines:', layout=Layout(width='70%'), placeholder='(Optional) Enter the number of …"
      ]
     },
     "metadata": {},
     "output_type": "display_data"
    },
    {
     "data": {
      "application/vnd.jupyter.widget-view+json": {
       "model_id": "9bd9003438ab4423a01cfb2fa0103851",
       "version_major": 2,
       "version_minor": 0
      },
      "text/plain": [
       "Button(description='File Contents', style=ButtonStyle())"
      ]
     },
     "metadata": {},
     "output_type": "display_data"
    },
    {
     "data": {
      "application/vnd.jupyter.widget-view+json": {
       "model_id": "64d899b2e26347338da9d3fca12795db",
       "version_major": 2,
       "version_minor": 0
      },
      "text/plain": [
       "Output()"
      ]
     },
     "metadata": {},
     "output_type": "display_data"
    }
   ],
   "source": [
    "catFile = widgets.Text(\n",
    "    value='',\n",
    "    placeholder='Enter the file to display content of',\n",
    "    description='File:',\n",
    "    disabled=False,\n",
    "    layout=widgets.Layout(width='70%'),\n",
    "    style= {'description_width': 'initial'}\n",
    ")\n",
    "display(catFile)\n",
    "\n",
    "catLines = widgets.Text(\n",
    "    value='',\n",
    "    placeholder='(Optional) Enter the number of lines of file to display (default: 5)',\n",
    "    description='#Lines:',\n",
    "    disabled=False,\n",
    "    layout=widgets.Layout(width='70%'),\n",
    "    style= {'description_width': 'initial'}\n",
    ")\n",
    "display(catLines)\n",
    "\n",
    "catBtn = widgets.Button(description='File Contents')\n",
    "display(catBtn)\n",
    "\n",
    "out = widgets.Output()\n",
    "display(out)\n",
    "def btn_eventhandler(obj):\n",
    "#     print(catFile.value)\n",
    "#     print(catLines.value)\n",
    "    with out:\n",
    "        clear_output()\n",
    "        if catLines.value != '':\n",
    "            app.cat(catFile.value, int(catLines.value))\n",
    "        else:\n",
    "            app.cat(catFile.value)\n",
    "\n",
    "catBtn.on_click(btn_eventhandler)\n"
   ]
  },
  {
   "cell_type": "markdown",
   "id": "1553561f",
   "metadata": {},
   "source": [
    "# Remove Content"
   ]
  },
  {
   "cell_type": "code",
   "execution_count": 22,
   "id": "c25a74c1",
   "metadata": {},
   "outputs": [
    {
     "data": {
      "application/vnd.jupyter.widget-view+json": {
       "model_id": "adc5f8cf7bda4ea6bdb412beeeff31d5",
       "version_major": 2,
       "version_minor": 0
      },
      "text/plain": [
       "Text(value='', description='Remove file/folder: ', layout=Layout(width='70%'), placeholder='Enter the path to …"
      ]
     },
     "metadata": {},
     "output_type": "display_data"
    },
    {
     "data": {
      "application/vnd.jupyter.widget-view+json": {
       "model_id": "a53bcfd533b34ccaba4022fe3527f60d",
       "version_major": 2,
       "version_minor": 0
      },
      "text/plain": [
       "Button(description='Remove Contents', style=ButtonStyle())"
      ]
     },
     "metadata": {},
     "output_type": "display_data"
    },
    {
     "data": {
      "application/vnd.jupyter.widget-view+json": {
       "model_id": "de3ba5757f87480d9991c4f9e6fa2f5b",
       "version_major": 2,
       "version_minor": 0
      },
      "text/plain": [
       "Output()"
      ]
     },
     "metadata": {},
     "output_type": "display_data"
    }
   ],
   "source": [
    "rmText = widgets.Text(\n",
    "    value='',\n",
    "    placeholder='Enter the path to file/folder to be removed',\n",
    "    description='Remove file/folder: ',\n",
    "    disabled=False,\n",
    "    layout=widgets.Layout(width='70%'),\n",
    "    style= {'description_width': 'initial', 'placeholder_width': 'initial'}\n",
    ")\n",
    "display(rmText)\n",
    "\n",
    "rmBtn = widgets.Button(description='Remove Contents')\n",
    "display(rmBtn)\n",
    "out = widgets.Output()\n",
    "display(out)\n",
    "def btn_eventhandler(obj):\n",
    "    with out:\n",
    "        clear_output()\n",
    "        app.rm(rmText.value)\n",
    "rmBtn.on_click(btn_eventhandler)"
   ]
  },
  {
   "cell_type": "markdown",
   "id": "92749bd5",
   "metadata": {},
   "source": [
    "# Insert File"
   ]
  },
  {
   "cell_type": "code",
   "execution_count": 23,
   "id": "1e0cfa65",
   "metadata": {},
   "outputs": [
    {
     "data": {
      "application/vnd.jupyter.widget-view+json": {
       "model_id": "566edd55364f489f9e9e005cc205f3fc",
       "version_major": 2,
       "version_minor": 0
      },
      "text/plain": [
       "Text(value='', description='Directory: ', layout=Layout(width='70%'), placeholder='Enter the path to folder to…"
      ]
     },
     "metadata": {},
     "output_type": "display_data"
    },
    {
     "data": {
      "application/vnd.jupyter.widget-view+json": {
       "model_id": "9935bd2e93b24d8584a9cd45617a5c64",
       "version_major": 2,
       "version_minor": 0
      },
      "text/plain": [
       "Text(value='', description='File: ', layout=Layout(width='70%'), placeholder='Enter the file insert', style=De…"
      ]
     },
     "metadata": {},
     "output_type": "display_data"
    },
    {
     "data": {
      "application/vnd.jupyter.widget-view+json": {
       "model_id": "cf6b27ff97be4daf987df8b3ab9f6ff2",
       "version_major": 2,
       "version_minor": 0
      },
      "text/plain": [
       "Text(value='', description='#Partitions: ', layout=Layout(width='70%'), placeholder='Enter the number of parti…"
      ]
     },
     "metadata": {},
     "output_type": "display_data"
    },
    {
     "data": {
      "application/vnd.jupyter.widget-view+json": {
       "model_id": "93471f862aec4a9b8cd33636155237c6",
       "version_major": 2,
       "version_minor": 0
      },
      "text/plain": [
       "Text(value='', description='Column (optional): ', layout=Layout(width='70%'), placeholder='Enter the column to…"
      ]
     },
     "metadata": {},
     "output_type": "display_data"
    },
    {
     "data": {
      "application/vnd.jupyter.widget-view+json": {
       "model_id": "d2d475b1648c4d2ea7190ed0b54cf520",
       "version_major": 2,
       "version_minor": 0
      },
      "text/plain": [
       "Button(description='Insert File', style=ButtonStyle())"
      ]
     },
     "metadata": {},
     "output_type": "display_data"
    },
    {
     "data": {
      "application/vnd.jupyter.widget-view+json": {
       "model_id": "2bee332768b64b78a6352f30b6fd17fa",
       "version_major": 2,
       "version_minor": 0
      },
      "text/plain": [
       "Output()"
      ]
     },
     "metadata": {},
     "output_type": "display_data"
    }
   ],
   "source": [
    "putPath = widgets.Text(\n",
    "    value='',\n",
    "    placeholder='Enter the path to folder to insert into',\n",
    "    description='Directory: ',\n",
    "    disabled=False,\n",
    "    layout=widgets.Layout(width='70%'),\n",
    "    style= {'description_width': 'initial'}\n",
    ")\n",
    "display(putPath)\n",
    "\n",
    "putFile = widgets.Text(\n",
    "    value='',\n",
    "    placeholder='Enter the file insert',\n",
    "    description='File: ',\n",
    "    disabled=False,\n",
    "    layout=widgets.Layout(width='70%'),\n",
    "    style= {'description_width': 'initial'}\n",
    ")\n",
    "display(putFile)\n",
    "\n",
    "putK = widgets.Text(\n",
    "    value='',\n",
    "    placeholder='Enter the number of partitions',\n",
    "    description='#Partitions: ',\n",
    "    disabled=False,\n",
    "    layout=widgets.Layout(width='70%'),\n",
    "    style= {'description_width': 'initial'}\n",
    ")\n",
    "display(putK)\n",
    "\n",
    "putColumn = widgets.Text(\n",
    "    value='',\n",
    "    placeholder='Enter the column to partition data on',\n",
    "    description='Column (optional): ',\n",
    "    disabled=False,\n",
    "    layout=widgets.Layout(width='70%'),\n",
    "    style= {'description_width': 'initial'}\n",
    ")\n",
    "display(putColumn)\n",
    "\n",
    "putBtn = widgets.Button(description='Insert File')\n",
    "display(putBtn)\n",
    "out = widgets.Output()\n",
    "display(out)\n",
    "def btn_eventhandler(obj):\n",
    "#     print(putPath.value, \"\\n\")\n",
    "#     print(putFile.value, \"\\n\")\n",
    "#     print(putK.value, \"\\n\")\n",
    "#     print(putColumn.value, \"\\n\")\n",
    "    with out:\n",
    "        clear_output()\n",
    "        if putColumn.value != '':\n",
    "            put(putPath.value, putFile.value, int(putK.value), putColumn.value)\n",
    "        else:\n",
    "            put(putPath.value, putFile.value, int(putK.value))\n",
    "            \n",
    "putBtn.on_click(btn_eventhandler)"
   ]
  },
  {
   "cell_type": "markdown",
   "id": "7bda0c23",
   "metadata": {},
   "source": [
    "# Get Partition Locations"
   ]
  },
  {
   "cell_type": "code",
   "execution_count": 6,
   "id": "ca8de4b8",
   "metadata": {},
   "outputs": [
    {
     "data": {
      "application/vnd.jupyter.widget-view+json": {
       "model_id": "a8e9260bf6984bfdb50ee52e1ab437cd",
       "version_major": 2,
       "version_minor": 0
      },
      "text/plain": [
       "Text(value='', description='File: ', layout=Layout(width='70%'), placeholder='Enter the file name to retrieve …"
      ]
     },
     "metadata": {},
     "output_type": "display_data"
    },
    {
     "data": {
      "application/vnd.jupyter.widget-view+json": {
       "model_id": "05268e5683dd4575993fdd7b5b6420fe",
       "version_major": 2,
       "version_minor": 0
      },
      "text/plain": [
       "Text(value='', description='Path: ', layout=Layout(width='70%'), placeholder='Enter the path to file', style=D…"
      ]
     },
     "metadata": {},
     "output_type": "display_data"
    },
    {
     "data": {
      "application/vnd.jupyter.widget-view+json": {
       "model_id": "186e8466e2fb4883a269bd6aa4e71506",
       "version_major": 2,
       "version_minor": 0
      },
      "text/plain": [
       "Button(description='Get Partitions', style=ButtonStyle())"
      ]
     },
     "metadata": {},
     "output_type": "display_data"
    },
    {
     "data": {
      "application/vnd.jupyter.widget-view+json": {
       "model_id": "b9cf1f8ad05a49dc8ee5d4ce3027dbbb",
       "version_major": 2,
       "version_minor": 0
      },
      "text/plain": [
       "Output()"
      ]
     },
     "metadata": {},
     "output_type": "display_data"
    }
   ],
   "source": [
    "gplFile = widgets.Text(\n",
    "    value='',\n",
    "    placeholder='Enter the file name to retrieve partition locations for',\n",
    "    description='File: ',\n",
    "    disabled=False,\n",
    "    layout=widgets.Layout(width='70%'),\n",
    "    style= {'description_width': 'initial'}\n",
    ")\n",
    "display(gplFile)\n",
    "\n",
    "gplPath = widgets.Text(\n",
    "    value='',\n",
    "    placeholder='Enter the path to file',\n",
    "    description='Path: ',\n",
    "    disabled=False,\n",
    "    layout=widgets.Layout(width='70%'),\n",
    "    style= {'description_width': 'initial'}\n",
    ")\n",
    "display(gplPath)\n",
    "\n",
    "gplBtn = widgets.Button(description='Get Partitions')\n",
    "display(gplBtn)\n",
    "out = widgets.Output()\n",
    "display(out)\n",
    "def btn_eventhandler(obj):\n",
    "    with out:\n",
    "        clear_output()\n",
    "        app.getPartitionLocations(gplFile.value, gplPath.value)\n",
    "        \n",
    "gplBtn.on_click(btn_eventhandler)"
   ]
  },
  {
   "cell_type": "markdown",
   "id": "4c92aa5f",
   "metadata": {},
   "source": [
    "# Read Partition"
   ]
  },
  {
   "cell_type": "code",
   "execution_count": null,
   "id": "fcf9858d",
   "metadata": {},
   "outputs": [],
   "source": [
    "# mapText = widgets.Text(\n",
    "#     value='',\n",
    "#     placeholder='Enter the partition to retrieve data from',\n",
    "#     description='?: ',\n",
    "#     disabled=False,\n",
    "#     layout=widgets.Layout(width='70%'),\n",
    "#     style= {'description_width': 'initial'}\n",
    "# )\n",
    "# display(mapText)\n",
    "\n",
    "# mapBtn = widgets.Button(description='Get Partition Data')\n",
    "# display(mapBtn)\n",
    "# out = widgets.Output()\n",
    "# display(out)\n",
    "# def btn_eventhandler(obj):\n",
    "#     with out:\n",
    "#         clear_output()\n",
    "#         map.mapPartition(mapText.value)\n",
    "        \n",
    "# mapBtn.on_click(btn_eventhandler)"
   ]
  },
  {
   "cell_type": "markdown",
   "id": "73360e0c",
   "metadata": {},
   "source": [
    "# Search Functionality"
   ]
  },
  {
   "cell_type": "code",
   "execution_count": 7,
   "id": "ee168544",
   "metadata": {},
   "outputs": [
    {
     "name": "stdout",
     "output_type": "stream",
     "text": [
      "Displays all records that match the Search Term\n"
     ]
    },
    {
     "data": {
      "application/vnd.jupyter.widget-view+json": {
       "model_id": "3e4dbca081044504b8aad246d8ad58a9",
       "version_major": 2,
       "version_minor": 0
      },
      "text/plain": [
       "Text(value='', description='File: ', layout=Layout(width='70%'), placeholder='Enter the file to search', style…"
      ]
     },
     "metadata": {},
     "output_type": "display_data"
    },
    {
     "data": {
      "application/vnd.jupyter.widget-view+json": {
       "model_id": "037e73b55d9b4bcf89f00885d1a1fabf",
       "version_major": 2,
       "version_minor": 0
      },
      "text/plain": [
       "Text(value='', description='Column: ', layout=Layout(width='70%'), placeholder='Enter the column to search on'…"
      ]
     },
     "metadata": {},
     "output_type": "display_data"
    },
    {
     "data": {
      "application/vnd.jupyter.widget-view+json": {
       "model_id": "a2fc8f3b94104f8e889aa6b89b2ddb21",
       "version_major": 2,
       "version_minor": 0
      },
      "text/plain": [
       "Text(value='', description='Search Term: ', layout=Layout(width='70%'), placeholder='Enter the search term', s…"
      ]
     },
     "metadata": {},
     "output_type": "display_data"
    },
    {
     "data": {
      "application/vnd.jupyter.widget-view+json": {
       "model_id": "74533e5e59b34a02bac4106251abb5b1",
       "version_major": 2,
       "version_minor": 0
      },
      "text/plain": [
       "Button(description='Search', style=ButtonStyle())"
      ]
     },
     "metadata": {},
     "output_type": "display_data"
    },
    {
     "data": {
      "application/vnd.jupyter.widget-view+json": {
       "model_id": "b74a7888bc8144f79b2e533b3a8bb6b9",
       "version_major": 2,
       "version_minor": 0
      },
      "text/plain": [
       "Output()"
      ]
     },
     "metadata": {},
     "output_type": "display_data"
    }
   ],
   "source": [
    "print(\"Displays all records that match the Search Term\")\n",
    "\n",
    "searchFile = widgets.Text(\n",
    "    value='',\n",
    "    placeholder='Enter the file to search',\n",
    "    description='File: ',\n",
    "    disabled=False,\n",
    "    layout=widgets.Layout(width='70%'),\n",
    "    style= {'description_width': 'initial'}\n",
    ")\n",
    "display(searchFile)\n",
    "\n",
    "searchCol = widgets.Text(\n",
    "    value='',\n",
    "    placeholder='Enter the column to search on',\n",
    "    description='Column: ',\n",
    "    disabled=False,\n",
    "    layout=widgets.Layout(width='70%'),\n",
    "    style= {'description_width': 'initial'}\n",
    ")\n",
    "display(searchCol)\n",
    "\n",
    "searchTerm = widgets.Text(\n",
    "    value='',\n",
    "    placeholder='Enter the search term',\n",
    "    description='Search Term: ',\n",
    "    disabled=False,\n",
    "    layout=widgets.Layout(width='70%'),\n",
    "    style= {'description_width': 'initial'}\n",
    ")\n",
    "display(searchTerm)\n",
    "\n",
    "searchBtn = widgets.Button(description='Search')\n",
    "display(searchBtn)\n",
    "out = widgets.Output()\n",
    "display(out)\n",
    "def btn_eventhandler(obj):\n",
    "#     print(searchFile.value, \"\\n\")\n",
    "#     print(searchCol.value, \"\\n\")\n",
    "#     print(searchTerm.value, \"\\n\")\n",
    "    with out:\n",
    "        clear_output()\n",
    "        app.search(searchFile.value, searchCol.value, searchTerm.value)\n",
    "        \n",
    "searchBtn.on_click(btn_eventhandler)"
   ]
  },
  {
   "cell_type": "markdown",
   "id": "c649cdff",
   "metadata": {},
   "source": [
    "# Analytics"
   ]
  },
  {
   "cell_type": "code",
   "execution_count": 8,
   "id": "6a06d97b",
   "metadata": {},
   "outputs": [
    {
     "name": "stdout",
     "output_type": "stream",
     "text": [
      "Analytics available : Mean, Minimum, Range, Standard Deviation, Median, Mode\n"
     ]
    },
    {
     "data": {
      "application/vnd.jupyter.widget-view+json": {
       "model_id": "4f4f66eef8db4e88b7dda28f509e9939",
       "version_major": 2,
       "version_minor": 0
      },
      "text/plain": [
       "Text(value='', description='File: ', layout=Layout(width='70%'), placeholder='Enter the file name', style=Desc…"
      ]
     },
     "metadata": {},
     "output_type": "display_data"
    },
    {
     "data": {
      "application/vnd.jupyter.widget-view+json": {
       "model_id": "e1b9982015474b538a5037a6b4d45b74",
       "version_major": 2,
       "version_minor": 0
      },
      "text/plain": [
       "Text(value='', description='Column: ', layout=Layout(width='70%'), placeholder='Enter the column to analyse da…"
      ]
     },
     "metadata": {},
     "output_type": "display_data"
    },
    {
     "data": {
      "application/vnd.jupyter.widget-view+json": {
       "model_id": "9cfe572907a9406fad15f0c4d90527ba",
       "version_major": 2,
       "version_minor": 0
      },
      "text/plain": [
       "Dropdown(description='Analytics Function: ', layout=Layout(width='70%'), options=('mean', 'minimum', 'maximum'…"
      ]
     },
     "metadata": {},
     "output_type": "display_data"
    },
    {
     "data": {
      "application/vnd.jupyter.widget-view+json": {
       "model_id": "bc296f08da634fa4b14eac5b5ea04fd4",
       "version_major": 2,
       "version_minor": 0
      },
      "text/plain": [
       "Button(description='Get Analytics', style=ButtonStyle())"
      ]
     },
     "metadata": {},
     "output_type": "display_data"
    },
    {
     "data": {
      "application/vnd.jupyter.widget-view+json": {
       "model_id": "62808073cc27416f904026ce40e17662",
       "version_major": 2,
       "version_minor": 0
      },
      "text/plain": [
       "Output()"
      ]
     },
     "metadata": {},
     "output_type": "display_data"
    }
   ],
   "source": [
    "print(\"Analytics available : Mean, Minimum, Range, Standard Deviation, Median, Mode\")\n",
    "anaFile = widgets.Text(\n",
    "    value='',\n",
    "    placeholder='Enter the file name',\n",
    "    description='File: ',\n",
    "    disabled=False,\n",
    "    layout=widgets.Layout(width='70%'),\n",
    "    style= {'description_width': 'initial'}\n",
    ")\n",
    "display(anaFile)\n",
    "\n",
    "anaCol = widgets.Text(\n",
    "    value='',\n",
    "    placeholder='Enter the column to analyse data on',\n",
    "    description='Column: ',\n",
    "    disabled=False,\n",
    "    layout=widgets.Layout(width='70%'),\n",
    "    style= {'description_width': 'initial'}\n",
    ")\n",
    "display(anaCol)\n",
    "\n",
    "anaFun = widgets.Dropdown(\n",
    "    options=['mean', 'minimum', 'maximum', 'range', 'standardDeviation', 'median', 'mode'],\n",
    "    value='mean',\n",
    "    description='Analytics Function: ',\n",
    "    disabled=False,\n",
    "    layout=widgets.Layout(width='70%'),\n",
    "    style= {'description_width': 'initial'}\n",
    ")\n",
    "display(anaFun)\n",
    "\n",
    "anaBtn = widgets.Button(description='Get Analytics')\n",
    "display(anaBtn)\n",
    "out = widgets.Output()\n",
    "display(out)\n",
    "def btn_eventhandler(obj):\n",
    "    with out:\n",
    "        clear_output()\n",
    "        app.dataAnalytics(anaFile.value, anaCol.value, anaFun.value)\n",
    "        \n",
    "anaBtn.on_click(btn_eventhandler)"
   ]
  },
  {
   "cell_type": "code",
   "execution_count": 16,
   "id": "6a11fc98",
   "metadata": {},
   "outputs": [
    {
     "data": {
      "text/plain": [
       "'12345'"
      ]
     },
     "execution_count": 16,
     "metadata": {},
     "output_type": "execute_result"
    }
   ],
   "source": [
    "str = '123456789'\n",
    "str[:-4]"
   ]
  },
  {
   "cell_type": "code",
   "execution_count": null,
   "id": "6bd89f00",
   "metadata": {},
   "outputs": [],
   "source": []
  }
 ],
 "metadata": {
  "interpreter": {
   "hash": "31f2aee4e71d21fbe5cf8b01ff0e069b9275f58929596ceb00d14d90e3e16cd6"
  },
  "kernelspec": {
   "display_name": "Python 3 (ipykernel)",
   "language": "python",
   "name": "python3"
  },
  "language_info": {
   "codemirror_mode": {
    "name": "ipython",
    "version": 3
   },
   "file_extension": ".py",
   "mimetype": "text/x-python",
   "name": "python",
   "nbconvert_exporter": "python",
   "pygments_lexer": "ipython3",
   "version": "3.9.8"
  }
 },
 "nbformat": 4,
 "nbformat_minor": 5
}
